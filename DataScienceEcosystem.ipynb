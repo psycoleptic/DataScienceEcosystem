{
 "cells": [
  {
   "cell_type": "markdown",
   "id": "8e13023e-c42b-499a-a5d3-ce1460a7ca36",
   "metadata": {
    "tags": []
   },
   "source": [
    "# Data Science Tools and Ecosystem"
   ]
  },
  {
   "cell_type": "markdown",
   "id": "29de0a9e-571e-4602-9cb3-bf676276a3ab",
   "metadata": {},
   "source": [
    "In this notebook, Data Science Tools and Ecosystem are summarized."
   ]
  },
  {
   "cell_type": "markdown",
   "id": "ff4c6bd0-1ca2-4a90-8e12-c9f6ce665a4c",
   "metadata": {},
   "source": [
    "**Objectives:**\n",
    "* List popular languages for Data Science\n",
    "* List commonly used libraries for Data Science\n",
    "* List Data Science tools\n",
    "\n",
    "## Author\n",
    "Polina"
   ]
  },
  {
   "cell_type": "markdown",
   "id": "45599b0e-c572-4cc3-8fa0-2ac829848632",
   "metadata": {},
   "source": [
    "Some of the popular languages that Data Scientists use are:\n",
    "1. Python\n",
    "2. R\n",
    "3. SQL\n",
    "4. Scala\n",
    "5. Java\n",
    "6. C++\n",
    "7. Julia"
   ]
  },
  {
   "cell_type": "markdown",
   "id": "9e0642d0-c49a-402b-8a7f-af33bda1a014",
   "metadata": {},
   "source": [
    "Some of the commonly used libraries used by Data Scientists include:\n",
    "* Scientific Computing\n",
    "1. Pandas\n",
    "2. NumPy\n",
    "* Visualization\n",
    "3. Matplotlib\n",
    "4. Seaborn\n",
    "* Machine Learning and Deep Learning\n",
    "5. Scikit-learn\n",
    "6. Keras \n",
    "* Deep Learning\n",
    "7. TensorFlow\n",
    "8. PyTorch "
   ]
  },
  {
   "cell_type": "markdown",
   "id": "bdaca7b8-bddb-47df-ac21-986ee72ba08d",
   "metadata": {},
   "source": [
    "| Data Science Tools |\n",
    "| -------------|\n",
    "| RStudio |\n",
    "| Apache Spark |\n",
    "| TensorFlow |"
   ]
  },
  {
   "cell_type": "markdown",
   "id": "a2301ce6-3800-4ef1-bd2b-e8e6add973f2",
   "metadata": {},
   "source": [
    "### Below are a few examples of evaluating arithmetic expressions in Python\n",
    "- Addition = x + y\n",
    "- Substraction = x - y\n",
    "- Multiplication = x * y\n",
    "- Division = x / y\n"
   ]
  },
  {
   "cell_type": "code",
   "execution_count": 1,
   "id": "38f42b8d-1e8b-497f-aab6-7acbe3e88144",
   "metadata": {},
   "outputs": [
    {
     "data": {
      "text/plain": [
       "17"
      ]
     },
     "execution_count": 1,
     "metadata": {},
     "output_type": "execute_result"
    }
   ],
   "source": [
    "#This a simple arithmetic expression to mutiply then add integers\n",
    "(3*4)+5"
   ]
  },
  {
   "cell_type": "code",
   "execution_count": 2,
   "id": "520ef5a3-b861-411f-874c-4a366129dfa2",
   "metadata": {},
   "outputs": [
    {
     "data": {
      "text/plain": [
       "3.3333333333333335"
      ]
     },
     "execution_count": 2,
     "metadata": {},
     "output_type": "execute_result"
    }
   ],
   "source": [
    "#This will convert 200 minutes to hours by diving by 60\n",
    "200/60"
   ]
  },
  {
   "cell_type": "code",
   "execution_count": null,
   "id": "797c6aa4-765b-40f1-be33-2bf85ac4ef7c",
   "metadata": {},
   "outputs": [],
   "source": []
  }
 ],
 "metadata": {
  "kernelspec": {
   "display_name": "Python 3 (ipykernel)",
   "language": "python",
   "name": "python3"
  },
  "language_info": {
   "codemirror_mode": {
    "name": "ipython",
    "version": 3
   },
   "file_extension": ".py",
   "mimetype": "text/x-python",
   "name": "python",
   "nbconvert_exporter": "python",
   "pygments_lexer": "ipython3",
   "version": "3.10.9"
  }
 },
 "nbformat": 4,
 "nbformat_minor": 5
}
